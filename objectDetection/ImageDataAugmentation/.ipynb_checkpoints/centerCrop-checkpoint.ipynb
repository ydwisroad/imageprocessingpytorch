{
 "cells": [
  {
   "cell_type": "code",
   "execution_count": 18,
   "metadata": {},
   "outputs": [],
   "source": [
    "import os\n",
    "import glob\n",
    "import albumentations as A\n",
    "import cv2\n",
    "import xml.etree.ElementTree as ET\n",
    "from xml.dom import minidom\n",
    "from tqdm import tqdm"
   ]
  },
  {
   "cell_type": "code",
   "execution_count": 14,
   "metadata": {},
   "outputs": [],
   "source": [
    "src_images_dir = '/Users/i052090/Downloads/segmentation/data/bagspic/marked/resized/JPEGImages' # 原始图片文件夹\n",
    "src_xml_dir = '/Users/i052090/Downloads/segmentation/data/bagspic/marked/resized/Annotations' # 原始xml文件夹\n",
    "dest_images_dir = '/Users/i052090/Downloads/segmentation/data/bagspic/marked/resized/out/JPEGImages' # 保存图片文件夹\n",
    "dest_xml_dir = '/Users/i052090/Downloads/segmentation/data/bagspic/marked/resized/out/Annotations' # 保存xml文件夹\n",
    "os.makedirs(dest_images_dir, exist_ok=True)\n",
    "os.makedirs(dest_xml_dir, exist_ok=True)"
   ]
  },
  {
   "cell_type": "code",
   "execution_count": 20,
   "metadata": {},
   "outputs": [],
   "source": [
    "# 读图片\n",
    "def read_img(img_path):\n",
    "    image = cv2.imread(img_path)\n",
    "    image = cv2.cvtColor(image, cv2.COLOR_BGR2RGB)\n",
    "    return image\n",
    "\n",
    "# 读xml\n",
    "def parse_xml(xml_path):\n",
    "    tree = ET.parse(xml_path)\n",
    "    root = tree.getroot()\n",
    "    # 从size节点中读取宽高\n",
    "    size=root.find('size')\n",
    "    width = float(size.find('width').text)\n",
    "    height = float(size.find('height').text)\n",
    "#     print(width,height)\n",
    "    bboxes = []\n",
    "    for obj in root.iter('object'):\n",
    "        xml_box = obj.find('bndbox')\n",
    "        xmin = (int(xml_box.find('xmin').text))\n",
    "        ymin = (int(xml_box.find('ymin').text))\n",
    "        xmax = (int(xml_box.find('xmax').text))\n",
    "        ymax = (int(xml_box.find('ymax').text))\n",
    "\n",
    "        name = obj.find('name').text\n",
    "        bboxes.append([xmin, ymin, xmax, ymax, name])\n",
    "    return bboxes\n",
    "\n",
    "# crop\n",
    "def crop_img(image, bboxes, width=640, height=640):\n",
    "    transform = A.Compose([\n",
    "        A.CenterCrop(width=width, height=height, p=1), \n",
    "        ], bbox_params=A.BboxParams(format='pascal_voc'))\n",
    "    transformed = transform(image=image, bboxes=bboxes)\n",
    "    transformed_image = transformed['image']\n",
    "    transformed_bboxes = transformed['bboxes']\n",
    "    return transformed_image, transformed_bboxes\n",
    "\n",
    "# 保存图片\n",
    "def save_img(img_path, image):\n",
    "    cv2.imwrite(img_path, image)\n",
    "\n",
    "# 保存xml\n",
    "def save_xml(save_path, im_name, im_shape,  bboxes):\n",
    "    if not bboxes:\n",
    "        return\n",
    "    # 创建dom树\n",
    "    doc = minidom.Document()\n",
    "\n",
    "    # 创建根节点，并添加到dom树\n",
    "    root_node = doc.createElement(\"annotation\")\n",
    "    doc.appendChild(root_node)\n",
    "\n",
    "    # 创建元素，为其添加文本节点，以下都是如此\n",
    "    folder_node = doc.createElement(\"folder\")\n",
    "    folder_value = doc.createTextNode('4')\n",
    "    folder_node.appendChild(folder_value)\n",
    "    root_node.appendChild(folder_node)\n",
    "\n",
    "    filename_node = doc.createElement(\"filename\")\n",
    "    filename_value = doc.createTextNode(im_name)\n",
    "    filename_node.appendChild(filename_value)\n",
    "    root_node.appendChild(filename_node)\n",
    "\n",
    "    size_node = doc.createElement(\"size\")\n",
    "    for item, value in zip([\"width\", \"height\", \"depth\"], im_shape):\n",
    "        elem = doc.createElement(item)\n",
    "        elem.appendChild(doc.createTextNode(str(value)))\n",
    "        size_node.appendChild(elem)\n",
    "    root_node.appendChild(size_node)\n",
    "\n",
    "    for bbox in bboxes:\n",
    "        obj_node = doc.createElement(\"object\")\n",
    "        name_node = doc.createElement(\"name\")\n",
    "        name_node.appendChild(doc.createTextNode(bbox[-1]))\n",
    "        obj_node.appendChild(name_node)\n",
    "\n",
    "        trun_node = doc.createElement(\"difficult\")\n",
    "        trun_node.appendChild(doc.createTextNode(str(0)))\n",
    "        obj_node.appendChild(trun_node)\n",
    "\n",
    "        bndbox_node = doc.createElement(\"bndbox\")\n",
    "        for item, value in zip([\"xmin\", \"ymin\", \"xmax\", \"ymax\"], bbox[:-1]):\n",
    "            elem = doc.createElement(item)\n",
    "            elem.appendChild(doc.createTextNode(str(round(value))))\n",
    "            bndbox_node.appendChild(elem)\n",
    "        obj_node.appendChild(bndbox_node)\n",
    "        root_node.appendChild(obj_node)\n",
    "\n",
    "#     save_path = os.path.join(save_dir, filename.split('.')[0]+'.xml')\n",
    "    with open(save_path, \"w\", encoding=\"utf-8\") as f:\n",
    "        # 将dom树写入文件\n",
    "        doc.writexml(f, indent='', addindent='\\t', newl='\\n', encoding=\"utf-8\")"
   ]
  },
  {
   "cell_type": "code",
   "execution_count": 22,
   "metadata": {},
   "outputs": [
    {
     "name": "stderr",
     "output_type": "stream",
     "text": [
      "100%|████████████████████████████████████████████| 3/3 [00:00<00:00, 17.34it/s]\n"
     ]
    }
   ],
   "source": [
    "images = os.listdir(src_images_dir)\n",
    "\n",
    "for img_name in tqdm(images):\n",
    "    xml_name = img_name.replace('.jpg', '.xml')\n",
    "    dest_img_name = img_name.replace('.jpg', '.png')\n",
    "    img_path = os.path.join(src_images_dir, img_name)\n",
    "    xml_path = os.path.join(src_xml_dir, xml_name)\n",
    "    dest_img_path = os.path.join(dest_images_dir, dest_img_name)\n",
    "    dest_xml_path = os.path.join(dest_xml_dir, xml_name)\n",
    "    if os.path.exists(img_path) and os.path.exists(xml_path):\n",
    "        image = read_img(img_path)\n",
    "        bboxes = parse_xml(xml_path)\n",
    "        h, w, c = image.shape\n",
    "        h = w if h > w else h  # 判断宽高，按短边算\n",
    "        t_image, t_bboxes = crop_img(image, bboxes, width=h, height=h)\n",
    "        # print(t_image.shape, t_bboxes)\n",
    "        save_img(img_path=dest_img_path, image=t_image)\n",
    "        save_xml(save_path=dest_xml_path, im_name=img_name, im_shape=(h, h, c),  bboxes=t_bboxes)"
   ]
  },
  {
   "cell_type": "code",
   "execution_count": null,
   "metadata": {},
   "outputs": [],
   "source": []
  },
  {
   "cell_type": "code",
   "execution_count": null,
   "metadata": {},
   "outputs": [],
   "source": []
  },
  {
   "cell_type": "code",
   "execution_count": null,
   "metadata": {},
   "outputs": [],
   "source": []
  },
  {
   "cell_type": "code",
   "execution_count": null,
   "metadata": {},
   "outputs": [],
   "source": []
  }
 ],
 "metadata": {
  "kernelspec": {
   "display_name": "Python 3",
   "language": "python",
   "name": "python3"
  },
  "language_info": {
   "codemirror_mode": {
    "name": "ipython",
    "version": 3
   },
   "file_extension": ".py",
   "mimetype": "text/x-python",
   "name": "python",
   "nbconvert_exporter": "python",
   "pygments_lexer": "ipython3",
   "version": "3.8.3"
  }
 },
 "nbformat": 4,
 "nbformat_minor": 2
}
