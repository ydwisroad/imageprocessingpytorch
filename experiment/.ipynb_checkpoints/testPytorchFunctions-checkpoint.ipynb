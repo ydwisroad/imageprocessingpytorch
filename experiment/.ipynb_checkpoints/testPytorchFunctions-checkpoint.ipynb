{
 "cells": [
  {
   "cell_type": "code",
   "execution_count": null,
   "metadata": {},
   "outputs": [],
   "source": [
    "import torch.nn as nn\n",
    "import torch\n",
    "\n",
    "\n",
    "m = nn.Conv2d(3, 32, 3, stride=1)\n",
    "\n",
    "inputConv = torch.randn(200, 3, 50, 100)\n",
    "outputConv = m(inputConv)\n",
    "\n",
    "print(\"outputConv size \", outputConv.size())"
   ]
  }
 ],
 "metadata": {
  "kernelspec": {
   "display_name": "Python 3",
   "language": "python",
   "name": "python3"
  },
  "language_info": {
   "codemirror_mode": {
    "name": "ipython",
    "version": 3
   },
   "file_extension": ".py",
   "mimetype": "text/x-python",
   "name": "python",
   "nbconvert_exporter": "python",
   "pygments_lexer": "ipython3",
   "version": "3.8.2"
  }
 },
 "nbformat": 4,
 "nbformat_minor": 4
}
